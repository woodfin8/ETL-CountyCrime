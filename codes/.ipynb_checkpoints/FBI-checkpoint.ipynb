{
 "cells": [
  {
   "cell_type": "code",
   "execution_count": 2,
   "metadata": {},
   "outputs": [],
   "source": [
    "import requests\n",
    "import json\n",
    "import pandas as pd\n",
    "from config import api_key, fbi_key,pword\n",
    "from sqlalchemy import create_engine\n",
    "import warnings\n",
    "warnings.filterwarnings('ignore')\n",
    "\n"
   ]
  },
  {
   "cell_type": "code",
   "execution_count": 3,
   "metadata": {},
   "outputs": [
    {
     "name": "stdout",
     "output_type": "stream",
     "text": [
      "<Response [200]>\n"
     ]
    }
   ],
   "source": [
    "#write api call for 2017 data and get response\n",
    "long_url2 = \"https://api.census.gov/data/2017/acs/acs5/profile?get=DP05_0001E,DP02_0037PE,DP02_0061PE,DP03_0009PE,DP03_0128PE,DP03_0063E,DP05_0004E,DP05_0018E,NAME&for=county:*&in=state:34&key=\"\n",
    "response2 = requests.get(long_url2 + api_key)\n",
    "print(response2)"
   ]
  },
  {
   "cell_type": "code",
   "execution_count": null,
   "metadata": {},
   "outputs": [],
   "source": [
    "#read json\n",
    "response2=response2.json()"
   ]
  },
  {
   "cell_type": "code",
   "execution_count": null,
   "metadata": {},
   "outputs": [],
   "source": [
    "#convert to dataframe and clean up header\n",
    "census_pd = pd.DataFrame(response2)\n",
    "census_pd.columns = census_pd.iloc[0]\n",
    "census_pd = census_pd.iloc[1:]\n",
    "census_pd.head()\n"
   ]
  },
  {
   "cell_type": "code",
   "execution_count": null,
   "metadata": {},
   "outputs": [],
   "source": [
    "#rename columns\n",
    "census_pd = census_pd.rename(columns={\"DP05_0001E\": \"population\",\"DP02_0037PE\": \"pct_births_single_moms\",\n",
    "                                                  \"DP02_0061PE\": \"pct_hs_diploma\",\"DP03_0009PE\":\"unemployment\",\n",
    "                                                  \"DP03_0128PE\":\"pct_under_pvt_lvl\",\"DP03_0063E\":\"mean_income\",\n",
    "                                                  \"DP05_0004E\":\"sex_ratio\",\"DP05_0018E\":\"mean_age\", \"NAME\":\"county_name\"})\n",
    "census_pd.head()"
   ]
  },
  {
   "cell_type": "code",
   "execution_count": null,
   "metadata": {},
   "outputs": [],
   "source": [
    "census_pd.keys()"
   ]
  },
  {
   "cell_type": "code",
   "execution_count": null,
   "metadata": {},
   "outputs": [],
   "source": [
    "#re-order columns\n",
    "census_pd= census_pd[['county','state','county_name','population', 'pct_births_single_moms', 'pct_hs_diploma',\n",
    "       'unemployment', 'pct_under_pvt_lvl', 'mean_income', 'sex_ratio',\n",
    "       'mean_age']]"
   ]
  },
  {
   "cell_type": "code",
   "execution_count": null,
   "metadata": {},
   "outputs": [],
   "source": [
    "census_pd.head()"
   ]
  },
  {
   "cell_type": "code",
   "execution_count": null,
   "metadata": {
    "scrolled": true
   },
   "outputs": [],
   "source": [
    "#clean up county name strings\n",
    "census_pd['county_name'] = census_pd['county_name'].str.rstrip('New Jersey')\n",
    "census_pd['county_name'] = census_pd['county_name'].str.rstrip('County,')\n",
    "\n",
    "census_pd.head()"
   ]
  },
  {
   "cell_type": "code",
   "execution_count": null,
   "metadata": {},
   "outputs": [],
   "source": [
    "#write df to csv\n",
    "census_pd.to_csv(\"../output_files/census.csv\")"
   ]
  },
  {
   "cell_type": "code",
   "execution_count": null,
   "metadata": {},
   "outputs": [],
   "source": [
    "#write api call NJ police departments from FBI API and get response\n",
    "long_url2 = \"https://api.usa.gov/crime/fbi/sapi/api/agencies/byStateAbbr/raw/NJ?API_KEY=\"\n",
    "response2 = requests.get(long_url2+fbi_key)\n",
    "print(response2)"
   ]
  },
  {
   "cell_type": "code",
   "execution_count": null,
   "metadata": {},
   "outputs": [],
   "source": [
    "#read json\n",
    "response2=response2.json()"
   ]
  },
  {
   "cell_type": "code",
   "execution_count": null,
   "metadata": {},
   "outputs": [],
   "source": [
    "#define function to \"de-nest\" the multi-layered dictionary\n",
    "\n",
    "def de_nest(nest):\n",
    "    dict1 = {}\n",
    "    \n",
    "    for key in nest.values():\n",
    "        dict1.update(key)\n",
    "    \n",
    "    list1 = []\n",
    "    for key in dict1.values():\n",
    "        list1.append(key)\n",
    "    \n",
    "    df1 = pd.DataFrame(list1)\n",
    "    \n",
    "    return df1\n",
    "    \n",
    "    "
   ]
  },
  {
   "cell_type": "code",
   "execution_count": null,
   "metadata": {},
   "outputs": [],
   "source": [
    "#create nj police dept dataframe\n",
    "nj_df = de_nest(response2)"
   ]
  },
  {
   "cell_type": "code",
   "execution_count": null,
   "metadata": {},
   "outputs": [],
   "source": [
    "#check dataframe\n",
    "nj_df.head()"
   ]
  },
  {
   "cell_type": "code",
   "execution_count": null,
   "metadata": {},
   "outputs": [],
   "source": [
    "#get keys\n",
    "nj_df.keys()"
   ]
  },
  {
   "cell_type": "code",
   "execution_count": null,
   "metadata": {
    "scrolled": true
   },
   "outputs": [],
   "source": [
    "#drop unwanted columns\n",
    "nj_df.drop(['agency_type_name', 'division_name','latitude', 'longitude','nibrs','nibrs_start_date','region_desc',\n",
    "            'region_name', 'state_abbr', 'state_name'], inplace=True, axis=1)\n",
    "nj_df.head()"
   ]
  },
  {
   "cell_type": "code",
   "execution_count": null,
   "metadata": {},
   "outputs": [],
   "source": [
    "#export to csv\n",
    "nj_df.to_csv(\"../output_files/agencies.csv\")"
   ]
  },
  {
   "cell_type": "code",
   "execution_count": null,
   "metadata": {},
   "outputs": [],
   "source": [
    "#create list of offenses in the FBI API\n",
    "offenses_list = [\"aggravated-assault\",\"burglary\",\"larceny\",\"motor-vehicle-theft\",\n",
    "                 \"homicide\",\"rape\",\"robbery\",\"arson\",\"violent-crime\",\"property-crime\"]"
   ]
  },
  {
   "cell_type": "code",
   "execution_count": null,
   "metadata": {},
   "outputs": [],
   "source": [
    "#run for loop to run through each offence and every API page per offence \n",
    "offense_jsons = []\n",
    "url1 = \"https://api.usa.gov/crime/fbi/sapi/api/summarized/state/NJ/\"\n",
    "url2 = \"/2017/2017?API_KEY=\"\n",
    "for crime in offenses_list:\n",
    "    url = url1 + crime + url2 + fbi_key\n",
    "    response = requests.get(url).json()\n",
    "    num_pages = response[\"pagination\"][\"pages\"]\n",
    "    for page in range(num_pages + 1):\n",
    "        response2 = requests.get(url1+crime+url2+fbi_key, params={'page': page})\n",
    "        print(response2)\n",
    "        response2 = response2.json()\n",
    "        offense_jsons.append(response2)\n"
   ]
  },
  {
   "cell_type": "code",
   "execution_count": null,
   "metadata": {},
   "outputs": [],
   "source": [
    "#delete pagination key\n",
    "for x in range(len(offense_jsons)):\n",
    "    del offense_jsons[x]['pagination']\n"
   ]
  },
  {
   "cell_type": "code",
   "execution_count": null,
   "metadata": {},
   "outputs": [],
   "source": [
    "#create inpack function to unpack nested dictionaries and convert to dataframe\n",
    "def unpack(jumble):\n",
    "    [list1] = [key for key in jumble.values()]\n",
    "    df1 = pd.DataFrame(list1)\n",
    "    return df1\n",
    "    \n",
    "    "
   ]
  },
  {
   "cell_type": "code",
   "execution_count": null,
   "metadata": {},
   "outputs": [],
   "source": [
    "# Use pd.concat to merge a list of DataFrame into a single big DataFrame.\n",
    "new_df = []\n",
    "for x in range(len(offense_jsons)):\n",
    "    data = unpack(offense_jsons[x])\n",
    "    new_df.append(data)\n",
    "    \n",
    "new_df = pd.concat(new_df)\n",
    "# Use pd.concat to merge a list of DataFrame into a single big DataFrame.\n"
   ]
  },
  {
   "cell_type": "code",
   "execution_count": null,
   "metadata": {},
   "outputs": [],
   "source": [
    "#reset index and check tail\n",
    "new_df.reset_index(drop=True).tail()\n"
   ]
  },
  {
   "cell_type": "code",
   "execution_count": null,
   "metadata": {},
   "outputs": [],
   "source": [
    "#merge crime and agency dataframes\n",
    "crime_df = pd.merge(new_df, nj_df, on=\"ori\",how=\"left\")"
   ]
  },
  {
   "cell_type": "code",
   "execution_count": null,
   "metadata": {},
   "outputs": [],
   "source": [
    "#check table length\n",
    "print(f'Our crime table has {crime_df.shape[0]} rows')\n",
    "crime_df.head()"
   ]
  },
  {
   "cell_type": "code",
   "execution_count": null,
   "metadata": {},
   "outputs": [],
   "source": [
    "crime_df.to_csv(\"../output_files/FBI.csv\")"
   ]
  },
  {
   "cell_type": "code",
   "execution_count": null,
   "metadata": {},
   "outputs": [],
   "source": [
    "#create pivot table summing total offenses by type by county\n",
    "crime_pivot = pd.pivot_table(crime_df, index= 'county_name', columns= 'offense', values= \"actual\", fill_value=0, aggfunc='sum')\n",
    "crime_pivot"
   ]
  },
  {
   "cell_type": "code",
   "execution_count": null,
   "metadata": {},
   "outputs": [],
   "source": [
    "#flatten the table\n",
    "crime_pivot.columns = crime_pivot.columns.get_level_values('offense')\n",
    "crime_pivot.reset_index(inplace=True)"
   ]
  },
  {
   "cell_type": "code",
   "execution_count": null,
   "metadata": {
    "scrolled": true
   },
   "outputs": [],
   "source": [
    "#check crime pivot\n",
    "crime_pivot"
   ]
  },
  {
   "cell_type": "code",
   "execution_count": null,
   "metadata": {},
   "outputs": [],
   "source": [
    "#assign county id's to crime pivot table\n",
    "id_df = census_pd[['county','state','county_name']]\n",
    "id_df['county_name'] = id_df['county_name'].str.upper() \n",
    "id_df.sort_values('county_name', inplace=True)\n",
    "id_df.reset_index(drop=True, inplace=True)\n",
    "id_df.head()"
   ]
  },
  {
   "cell_type": "code",
   "execution_count": null,
   "metadata": {},
   "outputs": [],
   "source": [
    "#strip out any white space before merging on county_name\n",
    "id_df[\"county_name\"] = id_df[\"county_name\"].str.strip()\n",
    "crime_pivot[\"county_name\"] = crime_pivot[\"county_name\"].str.strip()\n"
   ]
  },
  {
   "cell_type": "code",
   "execution_count": null,
   "metadata": {},
   "outputs": [],
   "source": [
    "#merge county id's with crime data\n",
    "county_crime = pd.merge(crime_pivot, id_df, on=\"county_name\")\n",
    "county_crime"
   ]
  },
  {
   "cell_type": "code",
   "execution_count": null,
   "metadata": {},
   "outputs": [],
   "source": [
    "#reorder columns and delete columns with no data\n",
    "county_crime = county_crime[[ 'state', 'county','county_name','aggravated-assault',\n",
    " 'arson','burglary','homicide','larceny','motor-vehicle-theft','property-crime','rape','robbery','violent-crime'\n",
    "]]"
   ]
  },
  {
   "cell_type": "code",
   "execution_count": null,
   "metadata": {},
   "outputs": [],
   "source": [
    "#create column that sums all offenses for each county\n",
    "county_crime['total_offenses']= county_crime.iloc[:, 3:12].sum(axis=1)"
   ]
  },
  {
   "cell_type": "code",
   "execution_count": null,
   "metadata": {},
   "outputs": [],
   "source": [
    "county_crime.head()"
   ]
  },
  {
   "cell_type": "code",
   "execution_count": null,
   "metadata": {},
   "outputs": [],
   "source": [
    "county_crime.to_csv(\"../output_files/county_crime.csv\")\n"
   ]
  },
  {
   "cell_type": "code",
   "execution_count": 6,
   "metadata": {},
   "outputs": [],
   "source": [
    "#connect to local database\n",
    "rds_connection_string = \"postgres:\"+ pword + \"@localhost:5432/nj_crime\"\n",
    "engine = create_engine(f'postgresql://{rds_connection_string}')"
   ]
  },
  {
   "cell_type": "code",
   "execution_count": null,
   "metadata": {},
   "outputs": [],
   "source": [
    "#export census data to SQL\n",
    "census_pd.to_sql(name='census', con=engine, if_exists='replace', index=True)"
   ]
  },
  {
   "cell_type": "code",
   "execution_count": null,
   "metadata": {},
   "outputs": [],
   "source": [
    "#export crime data to SQL \n",
    "county_crime.to_sql(name='crime', con=engine, if_exists='replace', index=True)"
   ]
  },
  {
   "cell_type": "code",
   "execution_count": null,
   "metadata": {},
   "outputs": [],
   "source": [
    "engine.table_names()"
   ]
  },
  {
   "cell_type": "code",
   "execution_count": null,
   "metadata": {
    "scrolled": true
   },
   "outputs": [],
   "source": [
    "#read tables from SQL\n",
    "pd.read_sql(\"SELECT * FROM census\",con=engine)\n"
   ]
  },
  {
   "cell_type": "code",
   "execution_count": null,
   "metadata": {
    "scrolled": true
   },
   "outputs": [],
   "source": [
    "pd.read_sql(\"SELECT * FROM crime\",con=engine)\n"
   ]
  },
  {
   "cell_type": "code",
   "execution_count": null,
   "metadata": {},
   "outputs": [],
   "source": [
    "#run a test JOIN \n",
    "pd.read_sql_query('SELECT \\\n",
    "cr.county_name, cr.total_offenses, ce.Pct_Under_Pvt_Lvl \\\n",
    "FROM crime AS cr \\\n",
    "JOIN census AS ce \\\n",
    "ON cr.county = ce.county;', con=engine)"
   ]
  },
  {
   "cell_type": "code",
   "execution_count": null,
   "metadata": {},
   "outputs": [],
   "source": []
  }
 ],
 "metadata": {
  "kernelspec": {
   "display_name": "Python 3",
   "language": "python",
   "name": "python3"
  },
  "language_info": {
   "codemirror_mode": {
    "name": "ipython",
    "version": 3
   },
   "file_extension": ".py",
   "mimetype": "text/x-python",
   "name": "python",
   "nbconvert_exporter": "python",
   "pygments_lexer": "ipython3",
   "version": "3.7.3"
  }
 },
 "nbformat": 4,
 "nbformat_minor": 2
}
